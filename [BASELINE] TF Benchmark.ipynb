{
 "cells": [
  {
   "cell_type": "code",
   "source": [
    "from google.colab import drive\n",
    "import sys\n",
    "\n",
    "\n",
    "drive.mount('/content/drive', force_remount=True)\n",
    "\n",
    "sys.path.append('/content/drive/MyDrive/dnn_model_optimization')"
   ],
   "metadata": {
    "colab": {
     "base_uri": "https://localhost:8080/"
    },
    "id": "cOl5YbUkvxAQ",
    "executionInfo": {
     "status": "ok",
     "timestamp": 1697474032901,
     "user_tz": -300,
     "elapsed": 3049,
     "user": {
      "displayName": "Petr Ivanov",
      "userId": "15588216699611977235"
     }
    },
    "outputId": "e5f38651-eaae-4af8-8acf-fa5d1e43e416",
    "pycharm": {
     "name": "#%%\n"
    }
   },
   "execution_count": null,
   "outputs": [
    {
     "output_type": "stream",
     "name": "stdout",
     "text": [
      "Mounted at /content/drive\n"
     ]
    }
   ]
  },
  {
   "cell_type": "code",
   "execution_count": null,
   "metadata": {
    "id": "NWe9l99SNQmg",
    "pycharm": {
     "name": "#%%\n"
    }
   },
   "outputs": [],
   "source": [
    "from utils.data import load_data\n",
    "\n",
    "((imgs, abits), labels), alphabet = load_data('/content/drive/MyDrive/dnn_model_optimization/data', split=False, blank_idx=-1)"
   ]
  },
  {
   "cell_type": "code",
   "execution_count": null,
   "metadata": {
    "id": "4BosfOmNvGFq",
    "pycharm": {
     "name": "#%%\n"
    }
   },
   "outputs": [],
   "source": [
    "import tensorflow as tf\n",
    "from utils.tf_helpers import CER, CTCLoss, warmup_tf_model\n",
    "\n",
    "model = tf.keras.models.load_model('/content/drive/MyDrive/dnn_model_optimization/weights/crnn_common_fields.h5',\n",
    "                                   custom_objects={'CTCLoss': CTCLoss, 'CER': CER})\n",
    "\n",
    "model = warmup_tf_model(model, [(128, 50, 2), (128, 32, 400)])"
   ]
  },
  {
   "cell_type": "code",
   "execution_count": null,
   "metadata": {
    "colab": {
     "base_uri": "https://localhost:8080/"
    },
    "id": "tFmt1HElizm_",
    "outputId": "af790688-e50e-4baf-c5ea-fe48d79ebabf",
    "executionInfo": {
     "status": "ok",
     "timestamp": 1697474332344,
     "user_tz": -300,
     "elapsed": 269520,
     "user": {
      "displayName": "Petr Ivanov",
      "userId": "15588216699611977235"
     }
    },
    "pycharm": {
     "name": "#%%\n"
    }
   },
   "outputs": [
    {
     "output_type": "stream",
     "name": "stderr",
     "text": [
      "100%|██████████| 10/10 [01:08<00:00,  6.87s/it]\n"
     ]
    },
    {
     "output_type": "stream",
     "name": "stdout",
     "text": [
      "Time spent: 0.053708\n",
      "loss: 0.2938440144062042, Character Error Rate: 0.0022150001022964716\n"
     ]
    }
   ],
   "source": [
    "import time\n",
    "from tqdm import trange\n",
    "import gc\n",
    "\n",
    "NRUNS = 10\n",
    "times = list()\n",
    "BATCH_SIZE = 128\n",
    "\n",
    "start = time.time()\n",
    "\n",
    "for i in trange(NRUNS):\n",
    "  gc.collect()\n",
    "  y_pred = model.predict([abits, imgs], batch_size=BATCH_SIZE, verbose=0)\n",
    "\n",
    "print(f'Time spent: {(round((time.time()-start) / NRUNS / BATCH_SIZE, 6))}')\n",
    "\n",
    "loss = CTCLoss(labels, y_pred)\n",
    "cer = CER()\n",
    "cer.update_state(labels, y_pred)\n",
    "\n",
    "print(f'loss: {round(tf.reduce_mean(loss).numpy(), 6)}, Character Error Rate: {round(cer.result().numpy(), 6)}')"
   ]
  },
  {
   "cell_type": "code",
   "source": [
    "from google.colab import runtime\n",
    "\n",
    "runtime.unassign()"
   ],
   "metadata": {
    "id": "RAu4MYe5SBKE",
    "pycharm": {
     "name": "#%%\n"
    }
   },
   "execution_count": null,
   "outputs": []
  }
 ],
 "metadata": {
  "colab": {
   "provenance": [],
   "gpuType": "T4"
  },
  "kernelspec": {
   "display_name": "Python 3",
   "name": "python3"
  },
  "language_info": {
   "codemirror_mode": {
    "name": "ipython",
    "version": 3
   },
   "file_extension": ".py",
   "mimetype": "text/x-python",
   "name": "python",
   "nbconvert_exporter": "python",
   "pygments_lexer": "ipython3",
   "version": "3.10.11"
  },
  "accelerator": "GPU"
 },
 "nbformat": 4,
 "nbformat_minor": 0
}
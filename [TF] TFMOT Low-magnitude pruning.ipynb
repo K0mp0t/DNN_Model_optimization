{
 "nbformat": 4,
 "nbformat_minor": 0,
 "metadata": {
  "colab": {
   "provenance": [],
   "gpuType": "T4"
  },
  "kernelspec": {
   "name": "python3",
   "display_name": "Python 3"
  },
  "language_info": {
   "name": "python"
  },
  "accelerator": "GPU"
 },
 "cells": [
  {
   "cell_type": "code",
   "source": [
    "!pip install -q tensorflow_model_optimization"
   ],
   "metadata": {
    "id": "oeyogWnbpOJJ",
    "executionInfo": {
     "status": "ok",
     "timestamp": 1699204622202,
     "user_tz": -300,
     "elapsed": 4353,
     "user": {
      "displayName": "Petr Ivanov",
      "userId": "15588216699611977235"
     }
    },
    "pycharm": {
     "name": "#%%\n"
    }
   },
   "execution_count": 1,
   "outputs": []
  },
  {
   "cell_type": "code",
   "source": [
    "from google.colab import drive\n",
    "import sys\n",
    "\n",
    "\n",
    "drive.mount('/content/drive')\n",
    "\n",
    "sys.path.append('/content/drive/MyDrive/dnn_model_optimization')"
   ],
   "metadata": {
    "colab": {
     "base_uri": "https://localhost:8080/"
    },
    "id": "mSH8uUG1Cb62",
    "executionInfo": {
     "status": "ok",
     "timestamp": 1699204624209,
     "user_tz": -300,
     "elapsed": 2011,
     "user": {
      "displayName": "Petr Ivanov",
      "userId": "15588216699611977235"
     }
    },
    "outputId": "8e39bcf3-fe08-4a62-d3e7-60fdf594705e",
    "pycharm": {
     "name": "#%%\n"
    }
   },
   "execution_count": 2,
   "outputs": [
    {
     "output_type": "stream",
     "name": "stdout",
     "text": [
      "Drive already mounted at /content/drive; to attempt to forcibly remount, call drive.mount(\"/content/drive\", force_remount=True).\n"
     ]
    }
   ]
  },
  {
   "cell_type": "code",
   "execution_count": 3,
   "metadata": {
    "id": "ZWWMdH1vCVq5",
    "executionInfo": {
     "status": "ok",
     "timestamp": 1699204646672,
     "user_tz": -300,
     "elapsed": 22465,
     "user": {
      "displayName": "Petr Ivanov",
      "userId": "15588216699611977235"
     }
    },
    "pycharm": {
     "name": "#%%\n"
    }
   },
   "outputs": [],
   "source": [
    "from utils.data import decode_texts, load_data, OCRDataset\n",
    "from copy import deepcopy\n",
    "import matplotlib.pyplot as plt\n",
    "from utils.tf_helpers import CER, CTCLoss, warmup_tf_model\n",
    "from itertools import groupby\n",
    "import tensorflow as tf\n",
    "import tensorflow_model_optimization as tfmot\n",
    "import time\n",
    "\n",
    "\n",
    "((train_imgs, train_abits), train_labels), ((val_imgs, val_abits), val_labels), alphabet = load_data('/content/drive/MyDrive/dnn_model_optimization/data', split=True, blank_idx=-1)"
   ]
  },
  {
   "cell_type": "markdown",
   "source": [
    "# Original model"
   ],
   "metadata": {
    "id": "yP9vxgpTC3Si",
    "pycharm": {
     "name": "#%% md\n"
    }
   }
  },
  {
   "cell_type": "code",
   "source": [
    "model = tf.keras.models.load_model('/content/drive/MyDrive/Методы компрессии/crnn_common_fields.h5',\n",
    "                                   custom_objects={'CTCLoss': CTCLoss, 'CER': CER})\n",
    "\n",
    "print(f'Original model #Params: {model.count_params()}')"
   ],
   "metadata": {
    "colab": {
     "base_uri": "https://localhost:8080/"
    },
    "id": "C2BZPkp9C4e6",
    "executionInfo": {
     "status": "ok",
     "timestamp": 1699204650144,
     "user_tz": -300,
     "elapsed": 3486,
     "user": {
      "displayName": "Petr Ivanov",
      "userId": "15588216699611977235"
     }
    },
    "outputId": "ed3d315a-6d39-4c9c-8bbf-f95583f4f9cd",
    "pycharm": {
     "name": "#%%\n"
    }
   },
   "execution_count": 4,
   "outputs": [
    {
     "output_type": "stream",
     "name": "stdout",
     "text": [
      "Original model #Params: 1491438\n"
     ]
    }
   ]
  },
  {
   "cell_type": "code",
   "source": [
    "warmup_tf_model(model, [(32, 50, 2), (32, 32, 400, 1)])\n",
    "\n",
    "epochs = 10\n",
    "batch_size = 128\n",
    "nruns = 20\n",
    "\n",
    "start = time.time()\n",
    "\n",
    "for i in range(nruns):\n",
    "  loss, cer = model.evaluate([val_abits, val_imgs], val_labels, verbose=0)\n",
    "print(f'Time spent: {round((time.time()-start)/nruns/batch_size, 6)}, loss: {round(loss, 6)}, CER: {round(cer, 6)}')"
   ],
   "metadata": {
    "colab": {
     "base_uri": "https://localhost:8080/"
    },
    "id": "VyC4boLUsBS8",
    "executionInfo": {
     "status": "ok",
     "timestamp": 1699204802751,
     "user_tz": -300,
     "elapsed": 152610,
     "user": {
      "displayName": "Petr Ivanov",
      "userId": "15588216699611977235"
     }
    },
    "outputId": "7a934527-63c2-4af4-dea3-a974b72b3151",
    "pycharm": {
     "name": "#%%\n"
    }
   },
   "execution_count": 5,
   "outputs": [
    {
     "output_type": "stream",
     "name": "stdout",
     "text": [
      "Time spent: 0.058621, loss: 0.23869, CER: 0.002223\n"
     ]
    }
   ]
  },
  {
   "cell_type": "markdown",
   "source": [
    "# Full model pruning"
   ],
   "metadata": {
    "id": "qBBD_xEo1ILo",
    "pycharm": {
     "name": "#%% md\n"
    }
   }
  },
  {
   "cell_type": "code",
   "source": [
    "num_images = train_imgs.shape[0]\n",
    "end_step = (num_images // batch_size + 1) * epochs\n",
    "\n",
    "# Define model for pruning.\n",
    "pruning_params = {'pruning_schedule': tfmot.sparsity.keras.PolynomialDecay(initial_sparsity=0.50,\n",
    "                                                                           final_sparsity=0.80,\n",
    "                                                                           begin_step=0,\n",
    "                                                                           end_step=end_step)\n",
    "}\n",
    "\n",
    "\n",
    "model_for_pruning = tfmot.sparsity.keras.prune_low_magnitude(model, **pruning_params)\n",
    "model_for_pruning.compile(optimizer=tf.keras.optimizers.Nadam(learning_rate=5e-4),\n",
    "              loss=CTCLoss,\n",
    "              metrics=[CER()])"
   ],
   "metadata": {
    "id": "_oNyg047DFai",
    "executionInfo": {
     "status": "ok",
     "timestamp": 1699204804622,
     "user_tz": -300,
     "elapsed": 1884,
     "user": {
      "displayName": "Petr Ivanov",
      "userId": "15588216699611977235"
     }
    },
    "pycharm": {
     "name": "#%%\n"
    }
   },
   "execution_count": 6,
   "outputs": []
  },
  {
   "cell_type": "markdown",
   "source": [
    "First experiments have shown that small number of epochs may not be enough, so well fine tune for 10+ epochs. Though, we cannot use early stopping due to pre-planned number of epochs for pruning (sparsity decays through the learning). Maybe I should add few extra epochs after pruning"
   ],
   "metadata": {
    "id": "BREjADUyGW4d",
    "pycharm": {
     "name": "#%% md\n"
    }
   }
  },
  {
   "cell_type": "code",
   "source": [
    "from tensorflow.keras.callbacks import EarlyStopping\n",
    "\n",
    "model_for_pruning.fit([train_abits, train_imgs], train_labels, validation_data=([val_abits, val_imgs], val_labels),\n",
    "                      batch_size=batch_size, epochs=epochs,\n",
    "                      callbacks=[tfmot.sparsity.keras.UpdatePruningStep()])"
   ],
   "metadata": {
    "id": "fGJYYBf3Du_R",
    "colab": {
     "base_uri": "https://localhost:8080/"
    },
    "executionInfo": {
     "status": "ok",
     "timestamp": 1699205201536,
     "user_tz": -300,
     "elapsed": 396917,
     "user": {
      "displayName": "Petr Ivanov",
      "userId": "15588216699611977235"
     }
    },
    "outputId": "51e9054d-3601-4224-8f14-4623cb809630",
    "pycharm": {
     "name": "#%%\n"
    }
   },
   "execution_count": 7,
   "outputs": [
    {
     "output_type": "stream",
     "name": "stdout",
     "text": [
      "Epoch 1/10\n",
      "103/103 [==============================] - 78s 495ms/step - loss: 0.4587 - CER: 0.0080 - val_loss: 68.3577 - val_CER: 0.7392\n",
      "Epoch 2/10\n",
      "103/103 [==============================] - 36s 352ms/step - loss: 0.8236 - CER: 0.0188 - val_loss: 55.9288 - val_CER: 0.7685\n",
      "Epoch 3/10\n",
      "103/103 [==============================] - 33s 320ms/step - loss: 0.8558 - CER: 0.0169 - val_loss: 22.2777 - val_CER: 0.4841\n",
      "Epoch 4/10\n",
      "103/103 [==============================] - 35s 336ms/step - loss: 0.7273 - CER: 0.0135 - val_loss: 37.0889 - val_CER: 0.5991\n",
      "Epoch 5/10\n",
      "103/103 [==============================] - 35s 338ms/step - loss: 0.7168 - CER: 0.0136 - val_loss: 19.1522 - val_CER: 0.3714\n",
      "Epoch 6/10\n",
      "103/103 [==============================] - 35s 340ms/step - loss: 0.6666 - CER: 0.0121 - val_loss: 7.1800 - val_CER: 0.1457\n",
      "Epoch 7/10\n",
      "103/103 [==============================] - 33s 321ms/step - loss: 0.6404 - CER: 0.0115 - val_loss: 12.1935 - val_CER: 0.2631\n",
      "Epoch 8/10\n",
      "103/103 [==============================] - 34s 335ms/step - loss: 0.5340 - CER: 0.0100 - val_loss: 1.6583 - val_CER: 0.0338\n",
      "Epoch 9/10\n",
      "103/103 [==============================] - 36s 346ms/step - loss: 0.4491 - CER: 0.0083 - val_loss: 0.7579 - val_CER: 0.0153\n",
      "Epoch 10/10\n",
      "103/103 [==============================] - 35s 337ms/step - loss: 0.3899 - CER: 0.0073 - val_loss: 0.4784 - val_CER: 0.0095\n"
     ]
    },
    {
     "output_type": "execute_result",
     "data": {
      "text/plain": [
       "<keras.src.callbacks.History at 0x79af0a5608b0>"
      ]
     },
     "metadata": {},
     "execution_count": 7
    }
   ]
  },
  {
   "cell_type": "code",
   "source": [
    "model_for_export = tfmot.sparsity.keras.strip_pruning(model_for_pruning)\n",
    "model_for_export.compile(optimizer=tf.keras.optimizers.Nadam(learning_rate=1e-4),\n",
    "                         loss=CTCLoss, metrics=[CER()])\n",
    "\n",
    "warmup_tf_model(model_for_export, [(32, 50, 2), (32, 32, 400, 1)])\n",
    "\n",
    "start = time.time()\n",
    "\n",
    "for i in range(nruns):\n",
    "  loss, cer = model_for_export.evaluate([val_abits, val_imgs], val_labels, verbose=0, batch_size=batch_size)\n",
    "print(f'Full prunned model. Time spent: {round((time.time()-start)/nruns/batch_size, 6)}, loss: {round(loss, 6)}, CER: {round(cer, 6)}')\n",
    "print(f'Full prunned model #Params: {model_for_export.count_params()}')\n",
    "\n",
    "model_for_export.save('/content/drive/MyDrive/dnn_models_optimization/weights/crnn_common_fields_full_prunned.h5')"
   ],
   "metadata": {
    "colab": {
     "base_uri": "https://localhost:8080/"
    },
    "id": "NOu9LhcFETVK",
    "executionInfo": {
     "status": "ok",
     "timestamp": 1699205307680,
     "user_tz": -300,
     "elapsed": 106148,
     "user": {
      "displayName": "Petr Ivanov",
      "userId": "15588216699611977235"
     }
    },
    "outputId": "ecbac6ac-d9eb-4e94-d4f1-1b04d22f4bd4",
    "pycharm": {
     "name": "#%%\n"
    }
   },
   "execution_count": 8,
   "outputs": [
    {
     "output_type": "stream",
     "name": "stdout",
     "text": [
      "Full prunned model. Time spent: 0.041095, loss: 0.478418, CER: 0.009486\n",
      "Full prunned model #Params: 1491438\n"
     ]
    },
    {
     "output_type": "stream",
     "name": "stderr",
     "text": [
      "/usr/local/lib/python3.10/dist-packages/keras/src/engine/training.py:3079: UserWarning: You are saving your model as an HDF5 file via `model.save()`. This file format is considered legacy. We recommend using instead the native Keras format, e.g. `model.save('my_model.keras')`.\n",
      "  saving_api.save_model(\n"
     ]
    }
   ]
  },
  {
   "cell_type": "markdown",
   "source": [
    "# Partial pruning"
   ],
   "metadata": {
    "id": "BqtHpG8b2cnb",
    "pycharm": {
     "name": "#%% md\n"
    }
   }
  },
  {
   "cell_type": "code",
   "source": [
    "def layer_selection_func(layer):\n",
    "  if isinstance(layer, (tf.keras.layers.Dense, tf.keras.layers.Conv2D)):\n",
    "    return tfmot.sparsity.keras.prune_low_magnitude(layer, **pruning_params)\n",
    "  return layer\n",
    "\n",
    "model_for_pruning = tf.keras.models.clone_model(model, clone_function=layer_selection_func)\n",
    "model_for_pruning.compile(optimizer=tf.keras.optimizers.Nadam(learning_rate=5e-4),\n",
    "              loss=CTCLoss,\n",
    "              metrics=[CER()])"
   ],
   "metadata": {
    "id": "BHBbN8TanEMx",
    "executionInfo": {
     "status": "ok",
     "timestamp": 1699205308114,
     "user_tz": -300,
     "elapsed": 438,
     "user": {
      "displayName": "Petr Ivanov",
      "userId": "15588216699611977235"
     }
    },
    "pycharm": {
     "name": "#%%\n"
    }
   },
   "execution_count": 9,
   "outputs": []
  },
  {
   "cell_type": "code",
   "source": [
    "model_for_pruning.fit([train_abits, train_imgs], train_labels, validation_data=([val_abits, val_imgs], val_labels),\n",
    "                      batch_size=batch_size, epochs=epochs,\n",
    "                      callbacks=[tfmot.sparsity.keras.UpdatePruningStep()])"
   ],
   "metadata": {
    "colab": {
     "base_uri": "https://localhost:8080/"
    },
    "id": "-uaisVWGnz79",
    "executionInfo": {
     "status": "ok",
     "timestamp": 1699205701235,
     "user_tz": -300,
     "elapsed": 393122,
     "user": {
      "displayName": "Petr Ivanov",
      "userId": "15588216699611977235"
     }
    },
    "outputId": "51c3f0fa-1b92-4dcd-979e-e8c8654bd1d4",
    "pycharm": {
     "name": "#%%\n"
    }
   },
   "execution_count": 10,
   "outputs": [
    {
     "output_type": "stream",
     "name": "stdout",
     "text": [
      "Epoch 1/10\n",
      "103/103 [==============================] - 53s 403ms/step - loss: 0.4194 - CER: 0.0082 - val_loss: 0.4441 - val_CER: 0.0091\n",
      "Epoch 2/10\n",
      "103/103 [==============================] - 34s 326ms/step - loss: 0.3100 - CER: 0.0064 - val_loss: 0.3696 - val_CER: 0.0080\n",
      "Epoch 3/10\n",
      "103/103 [==============================] - 34s 332ms/step - loss: 0.2693 - CER: 0.0057 - val_loss: 0.3967 - val_CER: 0.0086\n",
      "Epoch 4/10\n",
      "103/103 [==============================] - 34s 334ms/step - loss: 0.2411 - CER: 0.0055 - val_loss: 0.3602 - val_CER: 0.0075\n",
      "Epoch 5/10\n",
      "103/103 [==============================] - 35s 343ms/step - loss: 0.2126 - CER: 0.0051 - val_loss: 0.3364 - val_CER: 0.0074\n",
      "Epoch 6/10\n",
      "103/103 [==============================] - 32s 314ms/step - loss: 0.2015 - CER: 0.0048 - val_loss: 0.3772 - val_CER: 0.0080\n",
      "Epoch 7/10\n",
      "103/103 [==============================] - 34s 331ms/step - loss: 0.2015 - CER: 0.0049 - val_loss: 0.3863 - val_CER: 0.0084\n",
      "Epoch 8/10\n",
      "103/103 [==============================] - 33s 317ms/step - loss: 0.1885 - CER: 0.0048 - val_loss: 0.3722 - val_CER: 0.0082\n",
      "Epoch 9/10\n",
      "103/103 [==============================] - 35s 340ms/step - loss: 0.1864 - CER: 0.0047 - val_loss: 0.3499 - val_CER: 0.0082\n",
      "Epoch 10/10\n",
      "103/103 [==============================] - 34s 330ms/step - loss: 0.1723 - CER: 0.0045 - val_loss: 0.3487 - val_CER: 0.0077\n"
     ]
    },
    {
     "output_type": "execute_result",
     "data": {
      "text/plain": [
       "<keras.src.callbacks.History at 0x79af065adf60>"
      ]
     },
     "metadata": {},
     "execution_count": 10
    }
   ]
  },
  {
   "cell_type": "code",
   "source": [
    "model_for_export = tfmot.sparsity.keras.strip_pruning(model_for_pruning)\n",
    "model_for_export.compile(optimizer=tf.keras.optimizers.Nadam(learning_rate=1e-4),\n",
    "                         loss=CTCLoss, metrics=[CER()])\n",
    "\n",
    "warmup_tf_model(model_for_export, [(32, 50, 2), (32, 32, 400, 1)])\n",
    "\n",
    "start = time.time()\n",
    "\n",
    "for i in range(nruns):\n",
    "  loss, cer = model_for_export.evaluate([val_abits, val_imgs], val_labels, verbose=0, batch_size=batch_size)\n",
    "print(f'Partial prunned model. Time spent: {round((time.time()-start)/nruns/batch_size, 6)}, loss: {round(loss, 6)}, CER: {round(cer, 6)}')\n",
    "print(f'Partial prunned model #Params: {model_for_export.count_params()}')\n",
    "\n",
    "model_for_export.save('/content/drive/MyDrive/dnn_models_optimization/weights/crnn_common_fields_partial_prunned.h5')"
   ],
   "metadata": {
    "colab": {
     "base_uri": "https://localhost:8080/"
    },
    "id": "_Ca-mRHJnu_c",
    "outputId": "e3ee7305-6504-4868-ca1d-df53368a4761",
    "pycharm": {
     "name": "#%%\n"
    }
   },
   "execution_count": null,
   "outputs": [
    {
     "output_type": "stream",
     "name": "stdout",
     "text": [
      "Partial prunned model. Time spent: 0.042377, loss: 0.348688, CER: 0.007657\n",
      "Partial prunned model #Params: 1491438\n"
     ]
    }
   ]
  },
  {
   "cell_type": "code",
   "source": [
    "from google.colab import runtime\n",
    "\n",
    "runtime.unassign()"
   ],
   "metadata": {
    "id": "bwxevyNNEWEg",
    "pycharm": {
     "name": "#%%\n"
    }
   },
   "execution_count": null,
   "outputs": []
  },
  {
   "cell_type": "code",
   "source": [],
   "metadata": {
    "id": "rhF3Rtj8Jlr-",
    "pycharm": {
     "name": "#%%\n"
    }
   },
   "execution_count": null,
   "outputs": []
  }
 ]
}
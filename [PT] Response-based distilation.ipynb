{
 "nbformat": 4,
 "nbformat_minor": 0,
 "metadata": {
  "colab": {
   "provenance": [],
   "gpuType": "T4",
   "authorship_tag": "ABX9TyMzBMbPFQgdcMcvd09NFU0o"
  },
  "kernelspec": {
   "name": "python3",
   "display_name": "Python 3"
  },
  "language_info": {
   "name": "python"
  },
  "accelerator": "GPU"
 },
 "cells": [
  {
   "cell_type": "code",
   "execution_count": 1,
   "metadata": {
    "colab": {
     "base_uri": "https://localhost:8080/"
    },
    "id": "-TWjKNcH8txn",
    "executionInfo": {
     "status": "ok",
     "timestamp": 1698855315940,
     "user_tz": -300,
     "elapsed": 16298,
     "user": {
      "displayName": "Petr Ivanov",
      "userId": "15588216699611977235"
     }
    },
    "outputId": "c81c9392-038d-4c6e-dc3a-7a1a6c24dafd",
    "pycharm": {
     "name": "#%%\n"
    }
   },
   "outputs": [
    {
     "output_type": "stream",
     "name": "stdout",
     "text": [
      "Mounted at /content/drive\n"
     ]
    }
   ],
   "source": [
    "from google.colab import drive\n",
    "import sys\n",
    "\n",
    "\n",
    "drive.mount('/content/drive')\n",
    "\n",
    "sys.path.append('/content/drive/MyDrive/dnn_model_optimization')"
   ]
  },
  {
   "cell_type": "code",
   "source": [
    "!pip install -q torchmetrics torchinfo"
   ],
   "metadata": {
    "id": "t6UF6XGh9Nqq",
    "executionInfo": {
     "status": "ok",
     "timestamp": 1698855323818,
     "user_tz": -300,
     "elapsed": 7882,
     "user": {
      "displayName": "Petr Ivanov",
      "userId": "15588216699611977235"
     }
    },
    "pycharm": {
     "name": "#%%\n"
    },
    "colab": {
     "base_uri": "https://localhost:8080/"
    },
    "outputId": "47cf556d-5bcb-4abb-937f-0942fa6be2f1"
   },
   "execution_count": 2,
   "outputs": [
    {
     "output_type": "stream",
     "name": "stdout",
     "text": [
      "\u001B[?25l     \u001B[90m━━━━━━━━━━━━━━━━━━━━━━━━━━━━━━━━━━━━━━━━\u001B[0m \u001B[32m0.0/805.2 kB\u001B[0m \u001B[31m?\u001B[0m eta \u001B[36m-:--:--\u001B[0m\r\u001B[2K     \u001B[91m━━━━━━━\u001B[0m\u001B[91m╸\u001B[0m\u001B[90m━━━━━━━━━━━━━━━━━━━━━━━━━━━━━━━━\u001B[0m \u001B[32m153.6/805.2 kB\u001B[0m \u001B[31m4.4 MB/s\u001B[0m eta \u001B[36m0:00:01\u001B[0m\r\u001B[2K     \u001B[90m━━━━━━━━━━━━━━━━━━━━━━━━━━━━━━━━━━━━━━━━\u001B[0m \u001B[32m805.2/805.2 kB\u001B[0m \u001B[31m12.2 MB/s\u001B[0m eta \u001B[36m0:00:00\u001B[0m\n",
      "\u001B[?25h"
     ]
    }
   ]
  },
  {
   "cell_type": "code",
   "source": [
    "from torch.utils.data import DataLoader\n",
    "from utils.torch_helpers import train_model, validate_model, warmup_torch_model, ctc_loss_log_differentiable_torch\n",
    "from utils.torch_model import CRNN, ConvBlock\n",
    "from torch.optim.lr_scheduler import ReduceLROnPlateau\n",
    "from utils.data import decode_texts, load_data, OCRDataset\n",
    "import torch\n",
    "from torch import nn\n",
    "from torchinfo import summary\n",
    "from copy import deepcopy\n",
    "import matplotlib.pyplot as plt\n",
    "from torchmetrics.text import CharErrorRate\n",
    "from itertools import groupby\n",
    "\n",
    "\n",
    "((train_imgs, train_abits), train_labels), ((val_imgs, val_abits), val_labels), alphabet = load_data('/content/drive/MyDrive/dnn_model_optimization/data', split=True)\n",
    "\n",
    "train_dataset = OCRDataset(train_imgs, train_abits, train_labels)\n",
    "val_dataset = OCRDataset(val_imgs, val_abits, val_labels)\n",
    "\n",
    "train_loader = DataLoader(train_dataset, batch_size=128)\n",
    "val_loader = DataLoader(val_dataset, batch_size=128)"
   ],
   "metadata": {
    "id": "Yzd0u8SM9PH8",
    "executionInfo": {
     "status": "ok",
     "timestamp": 1698855348580,
     "user_tz": -300,
     "elapsed": 24765,
     "user": {
      "displayName": "Petr Ivanov",
      "userId": "15588216699611977235"
     }
    },
    "pycharm": {
     "name": "#%%\n"
    }
   },
   "execution_count": 3,
   "outputs": []
  },
  {
   "cell_type": "code",
   "source": [
    "import torch\n",
    "from torchinfo import summary\n",
    "\n",
    "device = 'cuda' if torch.cuda.is_available() else 'cpu'\n",
    "\n",
    "teacher_model = CRNN(len(alphabet))\n",
    "teacher_model.load_state_dict(torch.load('/content/drive/MyDrive/dnn_model_optimization/weights/crnn_common_fields_.pt', map_location=torch.device(device)))\n",
    "summary(teacher_model, input_size=[(32, 1, 32, 400), (32, 50, 2)], device=device, depth=1)"
   ],
   "metadata": {
    "colab": {
     "base_uri": "https://localhost:8080/"
    },
    "id": "C2ZSwu059cHu",
    "executionInfo": {
     "status": "ok",
     "timestamp": 1698855364721,
     "user_tz": -300,
     "elapsed": 16161,
     "user": {
      "displayName": "Petr Ivanov",
      "userId": "15588216699611977235"
     }
    },
    "outputId": "7807e5ff-e02d-496a-bf50-6619342e7d65",
    "pycharm": {
     "name": "#%%\n"
    }
   },
   "execution_count": 4,
   "outputs": [
    {
     "output_type": "execute_result",
     "data": {
      "text/plain": [
       "==========================================================================================\n",
       "Layer (type:depth-idx)                   Output Shape              Param #\n",
       "==========================================================================================\n",
       "CRNN                                     [32, 50, 46]              --\n",
       "├─Sequential: 1-1                        [32, 256, 1, 50]          425,856\n",
       "├─LSTM: 1-2                              [32, 50, 256]             528,384\n",
       "├─LSTM: 1-3                              [32, 50, 256]             526,336\n",
       "├─Sequential: 1-4                        [32, 50, 46]              11,822\n",
       "==========================================================================================\n",
       "Total params: 1,492,398\n",
       "Trainable params: 1,492,398\n",
       "Non-trainable params: 0\n",
       "Total mult-adds (G): 7.49\n",
       "==========================================================================================\n",
       "Input size (MB): 1.65\n",
       "Forward/backward pass size (MB): 413.47\n",
       "Params size (MB): 5.97\n",
       "Estimated Total Size (MB): 421.09\n",
       "=========================================================================================="
      ]
     },
     "metadata": {},
     "execution_count": 4
    }
   ]
  },
  {
   "cell_type": "code",
   "source": [
    "print('Original model before warmup: ', dict(zip(['batch_time', 'loss', 'metric'], [round(e, 6) for e in validate_model(teacher_model, val_loader, alphabet, device=device)])))\n",
    "warmup_torch_model(teacher_model, [(32, 1, 32, 400), (32, 50, 2)], device)\n",
    "print('Original model after warmup: ', dict(zip(['batch_time', 'loss', 'metric'], [round(e, 6) for e in validate_model(teacher_model, val_loader, alphabet, device=device)])))"
   ],
   "metadata": {
    "colab": {
     "base_uri": "https://localhost:8080/"
    },
    "id": "jVHAtt5n9pvx",
    "executionInfo": {
     "status": "ok",
     "timestamp": 1698855391762,
     "user_tz": -300,
     "elapsed": 27056,
     "user": {
      "displayName": "Petr Ivanov",
      "userId": "15588216699611977235"
     }
    },
    "outputId": "2da2d388-2933-4b5b-a912-f2819e17625c",
    "pycharm": {
     "name": "#%%\n"
    }
   },
   "execution_count": 5,
   "outputs": [
    {
     "output_type": "stream",
     "name": "stdout",
     "text": [
      "Original model before warmup:  {'batch_time': 0.002854, 'loss': 14.042188, 'metric': 0.049073}\n",
      "Original model after warmup:  {'batch_time': 0.002683, 'loss': 14.042188, 'metric': 0.049073}\n"
     ]
    }
   ]
  },
  {
   "cell_type": "code",
   "source": [
    "class CRNN_light(nn.Module):\n",
    "    def __init__(self, alphabet_len):\n",
    "        super(CRNN_light, self).__init__()\n",
    "\n",
    "        self.feature_extractor = nn.Sequential(ConvBlock(1, 16),\n",
    "                                               ConvBlock(16, 32, (2, 1)),\n",
    "                                               ConvBlock(32, 64),\n",
    "                                               ConvBlock(64, 128),\n",
    "                                               ConvBlock(128, 192, (2, 1)))\n",
    "        self.lstm1 = nn.LSTM(194, 192, batch_first=True)\n",
    "        self.lstm2 = nn.LSTM(192, 192, batch_first=True)\n",
    "\n",
    "        self.fc = nn.Sequential(nn.Linear(192, alphabet_len+1),\n",
    "                                nn.Softmax(dim=2))\n",
    "\n",
    "    def forward(self, x1, x2):\n",
    "        f1 = self.feature_extractor(x1).squeeze()\n",
    "        f1 = torch.permute(f1, (0, 2, 1))\n",
    "\n",
    "        x = torch.cat([f1, x2], dim=2)\n",
    "\n",
    "        x, _ = self.lstm1(x)\n",
    "        x, _ = self.lstm2(x)\n",
    "        x = self.fc(x)\n",
    "\n",
    "        return x"
   ],
   "metadata": {
    "id": "H8GQATCh9vt3",
    "executionInfo": {
     "status": "ok",
     "timestamp": 1698855391763,
     "user_tz": -300,
     "elapsed": 14,
     "user": {
      "displayName": "Petr Ivanov",
      "userId": "15588216699611977235"
     }
    },
    "pycharm": {
     "name": "#%%\n"
    }
   },
   "execution_count": 6,
   "outputs": []
  },
  {
   "cell_type": "code",
   "source": [
    "student_model = CRNN_light(len(alphabet))\n",
    "summary(student_model, input_size=[(32, 1, 32, 400), (32, 50, 2)], device=device, depth=1)"
   ],
   "metadata": {
    "colab": {
     "base_uri": "https://localhost:8080/"
    },
    "id": "L9NXYQOY98eS",
    "executionInfo": {
     "status": "ok",
     "timestamp": 1698855391763,
     "user_tz": -300,
     "elapsed": 13,
     "user": {
      "displayName": "Petr Ivanov",
      "userId": "15588216699611977235"
     }
    },
    "outputId": "03e7be0a-416f-4ff7-9179-55e0b6e89a53",
    "pycharm": {
     "name": "#%%\n"
    }
   },
   "execution_count": 7,
   "outputs": [
    {
     "output_type": "execute_result",
     "data": {
      "text/plain": [
       "==========================================================================================\n",
       "Layer (type:depth-idx)                   Output Shape              Param #\n",
       "==========================================================================================\n",
       "CRNN_light                               [32, 50, 46]              --\n",
       "├─Sequential: 1-1                        [32, 192, 1, 50]          319,392\n",
       "├─LSTM: 1-2                              [32, 50, 192]             297,984\n",
       "├─LSTM: 1-3                              [32, 50, 192]             296,448\n",
       "├─Sequential: 1-4                        [32, 50, 46]              8,878\n",
       "==========================================================================================\n",
       "Total params: 922,702\n",
       "Trainable params: 922,702\n",
       "Non-trainable params: 0\n",
       "Total mult-adds (G): 4.09\n",
       "==========================================================================================\n",
       "Input size (MB): 1.65\n",
       "Forward/backward pass size (MB): 251.26\n",
       "Params size (MB): 3.69\n",
       "Estimated Total Size (MB): 256.61\n",
       "=========================================================================================="
      ]
     },
     "metadata": {},
     "execution_count": 7
    }
   ]
  },
  {
   "cell_type": "markdown",
   "source": [
    "# Distilation train loop v1 (w/ soft targets decoging)\n",
    "\n",
    "It's not clear to me now: CRNN returns logits, which are being used to calculte CTCLoss (obviously). Though CTCLoss uses decoded targets (alphabet indices of characters), so raw teacher logits can not be used as training targets with CTCLoss.\n",
    "\n",
    "So there are two options:\n",
    "1. Use raw logits with some distribution loss function (e.g. MSE)\n",
    "2. Decode teacher logits and use them with CTCLoss\n"
   ],
   "metadata": {
    "id": "sUHqH3t_-NQ8",
    "pycharm": {
     "name": "#%% md\n"
    }
   }
  },
  {
   "cell_type": "code",
   "source": [
    "student_model.to(device)\n",
    "student_model.train()\n",
    "\n",
    "teacher_model.to(device)\n",
    "\n",
    "optimizer = torch.optim.NAdam(student_model.parameters(), lr=1e-3)\n",
    "lr_scheduler = ReduceLROnPlateau(optimizer, patience=4, min_lr=1e-5, factor=0.5)\n",
    "metric = CharErrorRate()\n",
    "\n",
    "criterion = ctc_loss_log_differentiable_torch\n",
    "\n",
    "alpha = 0.8\n",
    "epochs = 1000\n",
    "early_stopping_patience = 10\n",
    "train_loss_history = list()\n",
    "val_loss_history = list()\n",
    "\n",
    "for epoch in range(epochs):\n",
    "  train_loss = 0\n",
    "  val_loss = 0\n",
    "\n",
    "  train_cer = 0\n",
    "  val_cer = 0\n",
    "\n",
    "  for i, ((x1, x2), y) in enumerate(train_loader):\n",
    "    x1 = x1.to(device)\n",
    "    x2 = x2.to(device)\n",
    "    y = y.to(device)\n",
    "\n",
    "    optimizer.zero_grad()\n",
    "    y_pred = student_model(x1, x2)\n",
    "\n",
    "    with torch.no_grad():\n",
    "      soft_targets = teacher_model(x1, x2).argmax(dim=-1)\n",
    "      soft_targets_ = torch.zeros_like(soft_targets)\n",
    "      for j, s in enumerate(soft_targets):\n",
    "        soft_targets_[j, :sum(s != 0)] = s[s != 0]\n",
    "      soft_targets = soft_targets_\n",
    "\n",
    "    input_lengths = torch.full((y_pred.shape[0],), y_pred.shape[1]).to(device)\n",
    "    hard_target_lengths = torch.sum(y != 0, axis=1)\n",
    "    soft_target_lengths = torch.sum(soft_targets != 0, axis=1)\n",
    "\n",
    "    hard_loss = criterion(torch.log(y_pred), y, input_lengths, hard_target_lengths, device=device)\n",
    "    soft_loss = criterion(torch.log(y_pred), soft_targets, input_lengths, soft_target_lengths, device=device)\n",
    "    loss = alpha*hard_loss + (1-alpha)*soft_loss\n",
    "\n",
    "    loss.backward()\n",
    "\n",
    "    optimizer.step()\n",
    "\n",
    "    train_loss += loss.item()\n",
    "    train_cer += metric(decode_texts(y_pred.detach().cpu().numpy(), alphabet, blank_idx=0),\n",
    "                        [''.join(alphabet[k-1] for k, _ in groupby(e) if k != 0) for e in y.cpu().numpy().astype(int)]).item()\n",
    "\n",
    "    print(f'\\rEpoch {epoch}, {i+1}/{len(train_loader)}, loss: {round(train_loss/(i+1), 6)}, cer: {round(train_cer/(i+1), 6)}', end='')\n",
    "\n",
    "  with torch.no_grad():\n",
    "    for i, ((x1, x2), y) in enumerate(val_loader):\n",
    "      x1 = x1.to(device)\n",
    "      x2 = x2.to(device)\n",
    "      y = y.to(device)\n",
    "\n",
    "      y_pred = student_model(x1, x2)\n",
    "\n",
    "      with torch.no_grad():\n",
    "        soft_targets = teacher_model(x1, x2).argmax(dim=-1)\n",
    "        soft_targets_ = torch.zeros_like(soft_targets)\n",
    "        for j, s in enumerate(soft_targets):\n",
    "          soft_targets_[j, :sum(s != 0)] = s[s != 0]\n",
    "        soft_targets = soft_targets_\n",
    "\n",
    "      input_lengths = torch.full((y_pred.shape[0],), y_pred.shape[1]).to(device)\n",
    "      hard_target_lengths = torch.sum(y != 0, axis=1)\n",
    "      soft_target_lengths = torch.sum(soft_targets != 0, axis=1)\n",
    "\n",
    "      hard_loss = criterion(torch.log(y_pred), y, input_lengths, hard_target_lengths, device=device)\n",
    "      soft_loss = criterion(torch.log(y_pred), soft_targets, input_lengths, soft_target_lengths, device=device)\n",
    "      loss = alpha*hard_loss + (1-alpha)*soft_loss\n",
    "\n",
    "      val_loss += loss.item()\n",
    "      val_cer += metric(decode_texts(y_pred.detach().cpu().numpy(), alphabet, blank_idx=0),\n",
    "                          [''.join(alphabet[k-1] for k, _ in groupby(e) if k != 0) for e in y.cpu().numpy().astype(int)]).item()\n",
    "\n",
    "  print(f' val_loss: {round(val_loss/len(val_loader), 6)}, val_cer: {round(val_cer/len(val_loader), 6)}')\n",
    "\n",
    "  lr_scheduler.step(val_loss/len(val_loader))\n",
    "  train_loss_history.append(train_loss/len(train_loader))\n",
    "  val_loss_history.append(val_loss/len(val_loader))\n",
    "\n",
    "  if min(val_loss_history) < min(val_loss_history[-early_stopping_patience:]):\n",
    "    break"
   ],
   "metadata": {
    "id": "TxN6q4v6-Pta",
    "pycharm": {
     "name": "#%%\n"
    },
    "colab": {
     "base_uri": "https://localhost:8080/"
    },
    "executionInfo": {
     "status": "ok",
     "timestamp": 1698856317625,
     "user_tz": -300,
     "elapsed": 925873,
     "user": {
      "displayName": "Petr Ivanov",
      "userId": "15588216699611977235"
     }
    },
    "outputId": "665a358a-b137-4c8e-9fd7-89606e4b45dd"
   },
   "execution_count": 8,
   "outputs": [
    {
     "output_type": "stream",
     "name": "stdout",
     "text": [
      "Epoch 0, 103/103, loss: 44.867749, cer: 1.001085 val_loss: 40.384095, val_cer: 1.0\n",
      "Epoch 1, 103/103, loss: 33.849035, cer: 0.995949 val_loss: 35.454702, val_cer: 0.992751\n",
      "Epoch 2, 103/103, loss: 21.786696, cer: 0.67518 val_loss: 19.623298, val_cer: 0.435254\n",
      "Epoch 3, 103/103, loss: 10.277144, cer: 0.174032 val_loss: 12.651488, val_cer: 0.254471\n",
      "Epoch 4, 103/103, loss: 4.109581, cer: 0.068014 val_loss: 9.793678, val_cer: 0.21209\n",
      "Epoch 5, 103/103, loss: 3.041025, cer: 0.052818 val_loss: 9.138576, val_cer: 0.204932\n",
      "Epoch 6, 103/103, loss: 2.584308, cer: 0.046852 val_loss: 8.33268, val_cer: 0.185838\n",
      "Epoch 7, 103/103, loss: 2.310882, cer: 0.043702 val_loss: 7.781948, val_cer: 0.174782\n",
      "Epoch 8, 103/103, loss: 2.11791, cer: 0.041832 val_loss: 7.537754, val_cer: 0.170296\n",
      "Epoch 9, 103/103, loss: 1.975246, cer: 0.040521 val_loss: 7.304294, val_cer: 0.165837\n",
      "Epoch 10, 103/103, loss: 1.867924, cer: 0.040291 val_loss: 7.294823, val_cer: 0.165711\n",
      "Epoch 11, 103/103, loss: 1.777111, cer: 0.039658 val_loss: 7.16396, val_cer: 0.161562\n",
      "Epoch 12, 103/103, loss: 3.401408, cer: 0.068258 val_loss: 8.866332, val_cer: 0.189448\n",
      "Epoch 13, 103/103, loss: 2.451251, cer: 0.050169 val_loss: 6.409667, val_cer: 0.141086\n",
      "Epoch 14, 103/103, loss: 1.9682, cer: 0.042841 val_loss: 6.207048, val_cer: 0.134645\n",
      "Epoch 15, 103/103, loss: 1.799221, cer: 0.041039 val_loss: 6.399269, val_cer: 0.141493\n",
      "Epoch 16, 103/103, loss: 1.696462, cer: 0.039904 val_loss: 6.486258, val_cer: 0.143331\n",
      "Epoch 17, 103/103, loss: 1.622169, cer: 0.039451 val_loss: 6.584342, val_cer: 0.144975\n",
      "Epoch 18, 103/103, loss: 1.562177, cer: 0.038942 val_loss: 6.607971, val_cer: 0.147832\n",
      "Epoch 19, 103/103, loss: 1.512084, cer: 0.03856 val_loss: 6.729976, val_cer: 0.150009\n",
      "Epoch 20, 103/103, loss: 1.457561, cer: 0.038192 val_loss: 6.740712, val_cer: 0.150386\n",
      "Epoch 21, 103/103, loss: 1.429621, cer: 0.038038 val_loss: 6.819165, val_cer: 0.15169\n",
      "Epoch 22, 103/103, loss: 1.406295, cer: 0.037764 val_loss: 6.894183, val_cer: 0.152451\n",
      "Epoch 23, 103/103, loss: 1.384777, cer: 0.037569 val_loss: 6.978346, val_cer: 0.153638\n",
      "Epoch 24, 103/103, loss: 1.364199, cer: 0.03747 val_loss: 7.017601, val_cer: 0.154\n"
     ]
    }
   ]
  },
  {
   "cell_type": "code",
   "source": [
    "plt.plot(train_loss_history, label='train_loss')\n",
    "plt.plot(val_loss_history, label='val_loss')\n",
    "\n",
    "plt.legend()"
   ],
   "metadata": {
    "colab": {
     "base_uri": "https://localhost:8080/",
     "height": 0
    },
    "id": "wyndsHmTk0tb",
    "executionInfo": {
     "status": "ok",
     "timestamp": 1698856318204,
     "user_tz": -300,
     "elapsed": 592,
     "user": {
      "displayName": "Petr Ivanov",
      "userId": "15588216699611977235"
     }
    },
    "outputId": "1bf14280-0a81-41a4-aef5-386c027a7016",
    "pycharm": {
     "name": "#%%\n"
    }
   },
   "execution_count": 9,
   "outputs": [
    {
     "output_type": "execute_result",
     "data": {
      "text/plain": [
       "<matplotlib.legend.Legend at 0x7994ddb8bdc0>"
      ]
     },
     "metadata": {},
     "execution_count": 9
    },
    {
     "output_type": "display_data",
     "data": {
      "text/plain": [
       "<Figure size 640x480 with 1 Axes>"
      ],
      "image/png": "[encoded data removed]"
     },
     "metadata": {}
    }
   ]
  },
  {
   "cell_type": "code",
   "source": [
    "print(dict(zip(['batch_time', 'loss', 'metric'], [round(e, 6) for e in validate_model(teacher_model, val_loader, alphabet, device=device)])))"
   ],
   "metadata": {
    "colab": {
     "base_uri": "https://localhost:8080/"
    },
    "id": "LjP4Lc7yELPr",
    "executionInfo": {
     "status": "ok",
     "timestamp": 1698856332345,
     "user_tz": -300,
     "elapsed": 14144,
     "user": {
      "displayName": "Petr Ivanov",
      "userId": "15588216699611977235"
     }
    },
    "outputId": "df122486-bc4f-4fe3-b700-b823a75e284e",
    "pycharm": {
     "name": "#%%\n"
    }
   },
   "execution_count": 10,
   "outputs": [
    {
     "output_type": "stream",
     "name": "stdout",
     "text": [
      "{'batch_time': 0.003063, 'loss': 14.042188, 'metric': 0.049073}\n"
     ]
    }
   ]
  },
  {
   "cell_type": "code",
   "source": [
    "print(dict(zip(['batch_time', 'loss', 'metric'], [round(e, 6) for e in validate_model(student_model, val_loader, alphabet, device=device)])))"
   ],
   "metadata": {
    "colab": {
     "base_uri": "https://localhost:8080/"
    },
    "id": "jKekMUKsEPUa",
    "outputId": "29b26e58-a8eb-49ae-91d8-5c8d22b83937",
    "pycharm": {
     "name": "#%%\n"
    }
   },
   "execution_count": null,
   "outputs": [
    {
     "output_type": "stream",
     "name": "stdout",
     "text": [
      "{'batch_time': 0.002026, 'loss': 14.102808, 'metric': 0.057071}\n"
     ]
    }
   ]
  },
  {
   "cell_type": "code",
   "source": [
    "from google.colab import runtime\n",
    "\n",
    "runtime.unassign()"
   ],
   "metadata": {
    "id": "3EHGyG3RF8Ws",
    "pycharm": {
     "name": "#%%\n"
    }
   },
   "execution_count": null,
   "outputs": []
  },
  {
   "cell_type": "code",
   "source": [],
   "metadata": {
    "id": "1RBIhTlXF-7s",
    "pycharm": {
     "name": "#%%\n"
    }
   },
   "execution_count": null,
   "outputs": []
  }
 ]
}